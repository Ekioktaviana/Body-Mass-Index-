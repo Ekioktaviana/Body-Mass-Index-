{
 "cells": [
  {
   "cell_type": "markdown",
   "metadata": {},
   "source": [
    "# Body Mass Index"
   ]
  },
  {
   "cell_type": "code",
   "execution_count": 10,
   "metadata": {},
   "outputs": [
    {
     "name": "stdout",
     "output_type": "stream",
     "text": [
      "Masukan Bilangan120\n",
      "Bilangan Positif\n"
     ]
    }
   ],
   "source": [
    "bil = int(input(\"Masukan Bilangan\"))\n",
    "if bil < 0:\n",
    "    print (\"Bilangan Negatif\")\n",
    "elif bil > 0:\n",
    "    print (\"Bilangan Positif\")\n",
    "else:\n",
    "    print(\"Nol\")\n"
   ]
  },
  {
   "cell_type": "code",
   "execution_count": 3,
   "metadata": {},
   "outputs": [
    {
     "name": "stdout",
     "output_type": "stream",
     "text": [
      "Masukan Bilangan83\n",
      "B\n"
     ]
    }
   ],
   "source": [
    "bil = int(input(\"Masukan Bilangan\"))\n",
    "if bil >= 92   :\n",
    "    print (\"A\")\n",
    "elif bil >= 83 and bil <= 91:\n",
    "    print (\"B\")\n",
    "elif bil >= 75 and bil<= 82:\n",
    "    print(\"C\")\n",
    "else :\n",
    "    print (\"D\")"
   ]
  },
  {
   "cell_type": "code",
   "execution_count": 8,
   "metadata": {},
   "outputs": [
    {
     "name": "stdout",
     "output_type": "stream",
     "text": [
      "Masukan tinggi : 170\n",
      "masukan berat badan : 46\n",
      "Kurus, Kekurangan berat badan berat\n"
     ]
    }
   ],
   "source": [
    "tinggi = float(input(\"Masukan tinggi : \"))\n",
    "badan = float(input(\"masukan berat badan : \"))\n",
    "bmi = badan/(tinggi*tinggi)\n",
    "\n",
    "if bmi < 17.0   :\n",
    "    print (\"Kurus, Kekurangan berat badan berat\")\n",
    "elif bmi > 17.0 < 18.4 :\n",
    "    print (\"Kurus, Kekurangan berat badan ringan\")\n",
    "elif bmi > 18.5 < 25.0:\n",
    "    print(\"Normal\")\n",
    "elif bmi > 25.1 < 27.0 :\n",
    "    print (\"Gemuk, Kelebihan berat badan tingkat ringan\")\n",
    "else:\n",
    "    print (\"Gemuk, Kelebihan berat badan tingkat berat\")\n",
    "\n"
   ]
  }
 ],
 "metadata": {
  "kernelspec": {
   "display_name": "Python 3",
   "language": "python",
   "name": "python3"
  },
  "language_info": {
   "codemirror_mode": {
    "name": "ipython",
    "version": 3
   },
   "file_extension": ".py",
   "mimetype": "text/x-python",
   "name": "python",
   "nbconvert_exporter": "python",
   "pygments_lexer": "ipython3",
   "version": "3.7.1"
  }
 },
 "nbformat": 4,
 "nbformat_minor": 2
}
